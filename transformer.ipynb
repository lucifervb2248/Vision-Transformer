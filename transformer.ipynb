{
 "cells": [
  {
   "cell_type": "code",
   "execution_count": 1,
   "id": "8e6eff14",
   "metadata": {},
   "outputs": [],
   "source": [
    "import numpy as np\n",
    "import tensorflow as tf\n",
    "from tensorflow import keras\n",
    "from tensorflow.keras import layers\n",
    "import tensorflow_addons as tfa"
   ]
  },
  {
   "cell_type": "code",
   "execution_count": 2,
   "id": "1b5fbd00",
   "metadata": {},
   "outputs": [],
   "source": [
    "#import dataset\n",
    "num_classes=10\n",
    "input_shape=(32,32,3)\n",
    "\n",
    "(x_train, y_train), (x_test, y_test) = keras.datasets.cifar10.load_data()"
   ]
  },
  {
   "cell_type": "code",
   "execution_count": 51,
   "id": "8c4f1111",
   "metadata": {},
   "outputs": [],
   "source": [
    "x_train=x_train[:500]\n",
    "y_train=y_train[:500]\n",
    "x_test=x_test[:100]\n",
    "y_test=y_test[:100]"
   ]
  },
  {
   "cell_type": "code",
   "execution_count": 52,
   "id": "3fbb1f27",
   "metadata": {},
   "outputs": [
    {
     "data": {
      "text/plain": [
       "(500, 32, 32, 3)"
      ]
     },
     "execution_count": 52,
     "metadata": {},
     "output_type": "execute_result"
    }
   ],
   "source": [
    "x_train.shape"
   ]
  },
  {
   "cell_type": "code",
   "execution_count": 53,
   "id": "c8303112",
   "metadata": {},
   "outputs": [
    {
     "data": {
      "text/plain": [
       "TensorShape([500, 1, 1])"
      ]
     },
     "execution_count": 53,
     "metadata": {},
     "output_type": "execute_result"
    }
   ],
   "source": [
    "y_train.shape"
   ]
  },
  {
   "cell_type": "code",
   "execution_count": 54,
   "id": "e39ab078",
   "metadata": {},
   "outputs": [
    {
     "data": {
      "text/plain": [
       "(100, 32, 32, 3)"
      ]
     },
     "execution_count": 54,
     "metadata": {},
     "output_type": "execute_result"
    }
   ],
   "source": [
    "x_test.shape\n"
   ]
  },
  {
   "cell_type": "code",
   "execution_count": 55,
   "id": "815e3dda",
   "metadata": {},
   "outputs": [
    {
     "data": {
      "text/plain": [
       "(100, 1)"
      ]
     },
     "execution_count": 55,
     "metadata": {},
     "output_type": "execute_result"
    }
   ],
   "source": [
    "y_test.shape"
   ]
  },
  {
   "cell_type": "code",
   "execution_count": 56,
   "id": "f4f3aec9",
   "metadata": {},
   "outputs": [],
   "source": [
    "y_train=tf.expand_dims(y_train,axis=1)"
   ]
  },
  {
   "cell_type": "code",
   "execution_count": 57,
   "id": "baf614df",
   "metadata": {},
   "outputs": [],
   "source": [
    "###Hyper Parameter Definition"
   ]
  },
  {
   "cell_type": "code",
   "execution_count": 58,
   "id": "f95581d0",
   "metadata": {},
   "outputs": [],
   "source": [
    "learning_rate=0.001\n",
    "weight_decay=0.0001\n",
    "batch_size=256\n",
    "num_epochs=30\n",
    "image_size=72\n",
    "patch_size=6\n",
    "num_patches=(image_size//patch_size)**2\n",
    "projection_dim=64\n",
    "num_heads=4\n",
    "transformer_units=[projection_dim*2,projection_dim]\n",
    "transformer_layers=8\n",
    "mlp_head_units=[2048,1024]"
   ]
  },
  {
   "cell_type": "code",
   "execution_count": 59,
   "id": "a1ddb816",
   "metadata": {},
   "outputs": [],
   "source": [
    "## Build ViT Classifier Model"
   ]
  },
  {
   "cell_type": "code",
   "execution_count": 60,
   "id": "2a13b021",
   "metadata": {},
   "outputs": [],
   "source": [
    "#3.1Data Augmentation"
   ]
  },
  {
   "cell_type": "code",
   "execution_count": 61,
   "id": "bc4b56ce",
   "metadata": {},
   "outputs": [],
   "source": [
    "data_augmentation=keras.Sequential(\n",
    "    [\n",
    "        layers.Normalization(),\n",
    "        layers.Resizing(image_size,image_size),\n",
    "        layers.RandomFlip(\"horizontal\"),\n",
    "        layers.RandomRotation(factor=0.2),\n",
    "        layers.RandomZoom(height_factor=0.2,width_factor=0.2),\n",
    "        \n",
    "    ],\n",
    "    name=\"data_augmentation\",)\n",
    "data_augmentation.layers[0].adapt(x_train)"
   ]
  },
  {
   "cell_type": "code",
   "execution_count": 62,
   "id": "180e5310",
   "metadata": {},
   "outputs": [],
   "source": [
    "#3.2Define MLP Architecture"
   ]
  },
  {
   "cell_type": "code",
   "execution_count": 63,
   "id": "f3b57610",
   "metadata": {},
   "outputs": [],
   "source": [
    "def mlp(x,hidden_units,dropout_rate):\n",
    "    for units in hidden_units:\n",
    "        x=layers.Dense(units,activation=tf.nn.gelu)(x)\n",
    "        x=layers.Dropout(dropout_rate)(x)\n",
    "    return x"
   ]
  },
  {
   "cell_type": "code",
   "execution_count": 64,
   "id": "a968edba",
   "metadata": {},
   "outputs": [],
   "source": [
    "#3.3Patches"
   ]
  },
  {
   "cell_type": "code",
   "execution_count": 65,
   "id": "35bb3925",
   "metadata": {},
   "outputs": [],
   "source": [
    "class Patches(layers.Layer):\n",
    "    def __init__(self,patch_size):\n",
    "        super(Patches,self).__init__()\n",
    "        self.patch_size=patch_size\n",
    "    def call(self,images):\n",
    "        batch_size=tf.shape(images)[0]\n",
    "        patches=tf.image.extract_patches(images=images,sizes=[1,self.patch_size,self.patch_size,1],strides=[1,self.patch_size,self.patch_size,1],rates=[1,1,1,1],padding=\"VALID\")\n",
    "        patch_dim=patches.shape[-1]\n",
    "        patches=tf.reshape(patches,[batch_size,-1,patch_dim])\n",
    "        return patches"
   ]
  },
  {
   "cell_type": "code",
   "execution_count": 66,
   "id": "2a053509",
   "metadata": {},
   "outputs": [
    {
     "data": {
      "image/png": "[encoded data removed]",
      "text/plain": [
       "<Figure size 400x400 with 1 Axes>"
      ]
     },
     "metadata": {},
     "output_type": "display_data"
    },
    {
     "data": {
      "image/png": "[encoded data removed]",
      "text/plain": [
       "<Figure size 400x400 with 144 Axes>"
      ]
     },
     "metadata": {},
     "output_type": "display_data"
    }
   ],
   "source": [
    "import matplotlib.pyplot as plt\n",
    "\n",
    "plt.figure(figsize=(4,4))\n",
    "image=x_train[np.random.choice(range(x_train.shape[0]))]\n",
    "plt.imshow(image)\n",
    "plt.axis('off')\n",
    "\n",
    "resized_image=tf.image.resize(tf.convert_to_tensor([image]),size=(image_size,image_size))\n",
    "patches=Patches(patch_size)(resized_image)\n",
    "\n",
    "n=int(np.sqrt(patches.shape[1]))\n",
    "plt.figure(figsize=(4,4))\n",
    "for i,patch in enumerate(patches[0]):\n",
    "    ax=plt.subplot(n,n,i+1)\n",
    "    patch_img=tf.reshape(patch,(patch_size,patch_size,3))\n",
    "    plt.imshow(patch_img.numpy().astype('uint8'))\n",
    "    plt.axis('off')\n",
    "    "
   ]
  },
  {
   "cell_type": "code",
   "execution_count": 67,
   "id": "0c4f0945",
   "metadata": {},
   "outputs": [],
   "source": [
    "class PatchEncoder(layers.Layer):\n",
    "    def __init__(self,num_patches,projection_dim):\n",
    "        super(PatchEncoder,self).__init__()\n",
    "        self.num_patches=num_patches\n",
    "        self.projection_dim=projection_dim\n",
    "        self.projection=layers.Dense(units=projection_dim)\n",
    "        self.position_embedding=layers.Embedding(input_dim=num_patches,output_dim=projection_dim)\n",
    "    def call(self,patch):\n",
    "        positions=tf.range(start=0,limit=self.num_patches,delta=1)\n",
    "        encoded=self.projection(patch)+self.position_embedding(positions)\n",
    "        return encoded"
   ]
  },
  {
   "cell_type": "code",
   "execution_count": 72,
   "id": "98478d1a",
   "metadata": {},
   "outputs": [],
   "source": [
    "def create_vit_classifier():\n",
    "    inputs=layers.Input(shape=input_shape)\n",
    "    augmentation=data_augmentation(inputs)\n",
    "    patches=Patches(patch_size)(augmentation)\n",
    "    encoded_patches=PatchEncoder(num_patches,projection_dim)(patches)\n",
    "    \n",
    "    for _ in range(transformer_layers):\n",
    "        x1=layers.LayerNormalization(epsilon=1e-6)(encoded_patches)\n",
    "        attention_output=layers.MultiHeadAttention(num_heads=num_heads,key_dim=projection_dim,dropout=0.1)(x1,x1)\n",
    "        x2=layers.Add()([attention_output,encoded_patches])\n",
    "        x3=layers.LayerNormalization(epsilon=1e-6)(x2)\n",
    "        x4=mlp(x3,hidden_units=transformer_units,dropout_rate=0.1)\n",
    "        encoded_patches=layers.Add()([x4,x2])\n",
    "        \n",
    "    representation=layers.LayerNormalization(epsilon=1e-6)(encoded_patches)\n",
    "    representation=layers.Flatten()(representation)\n",
    "    representation=layers.Dropout(0.5)(representation)\n",
    "    \n",
    "    features=mlp(representation,hidden_units=mlp_head_units,dropout_rate=0.5)\n",
    "    logits=layers.Dense(num_classes)(features)\n",
    "    \n",
    "    model=keras.Model(inputs=inputs,outputs=logits)\n",
    "    return model"
   ]
  },
  {
   "cell_type": "code",
   "execution_count": 73,
   "id": "3d4db39c",
   "metadata": {},
   "outputs": [],
   "source": [
    "def run(model):\n",
    "    optimizer=tfa.optimizers.AdamW(learning_rate=learning_rate,weight_decay=weight_decay)\n",
    "    \n",
    "    model.compile(optimizer=optimizer , loss=keras.losses.SparseCategoricalCrossentropy(from_logits=True), \n",
    "                  metrics = [keras.metrics.SparseCategoricalAccuracy(name=\"accuracy\"), \n",
    "                             keras.metrics.SparseTopKCategoricalAccuracy(5,name=\"top_5_accuracy\"),],)\n",
    "    checkpoint_filepath=\"./tmp/checkpoint\"\n",
    "    checkpoint_callback=keras.callbacks.ModelCheckpoint(checkpoint_filepath,monitor=\"val_accuracy\",save_best_only=True,save_weights_only=True)\n",
    "    \n",
    "    history=model.fit(x=x_train, y=y_train, batch_size=batch_size,epochs=num_epochs,validation_split=0.1,callbacks=[checkpoint_callback],)\n",
    "    \n",
    "    _, accuracy, top_5_accuracy=model.evaluate(x_test,y_test)\n",
    "    print(f\"Test Accuracy:{round(accuracy*100),2}%\")\n",
    "    print(f\"Test top 5 Accuracy:{round(top_5_accuracy*100),2}%\")"
   ]
  },
  {
   "cell_type": "code",
   "execution_count": 74,
   "id": "c7fafaf2",
   "metadata": {},
   "outputs": [
    {
     "data": {
      "text/plain": [
       "(None, 10)"
      ]
     },
     "execution_count": 74,
     "metadata": {},
     "output_type": "execute_result"
    }
   ],
   "source": [
    "vit_classifier.output_shape"
   ]
  },
  {
   "cell_type": "code",
   "execution_count": 75,
   "id": "a8fdf682",
   "metadata": {},
   "outputs": [
    {
     "name": "stdout",
     "output_type": "stream",
     "text": [
      "Epoch 1/30\n",
      "2/2 [==============================] - 23s 9s/step - loss: 6.1926 - accuracy: 0.0940 - top_5_accuracy: 0.5111 - val_loss: 4.5851 - val_accuracy: 0.1144 - val_top_5_accuracy: 0.6200\n",
      "Epoch 2/30\n",
      "2/2 [==============================] - 16s 7s/step - loss: 6.2721 - accuracy: 0.1045 - top_5_accuracy: 0.5778 - val_loss: 3.7551 - val_accuracy: 0.1052 - val_top_5_accuracy: 0.7200\n",
      "Epoch 3/30\n",
      "2/2 [==============================] - 16s 7s/step - loss: 4.3887 - accuracy: 0.0960 - top_5_accuracy: 0.6578 - val_loss: 3.0619 - val_accuracy: 0.0760 - val_top_5_accuracy: 0.7200\n",
      "Epoch 4/30\n",
      "2/2 [==============================] - 16s 7s/step - loss: 3.4043 - accuracy: 0.1042 - top_5_accuracy: 0.6689 - val_loss: 2.3440 - val_accuracy: 0.0932 - val_top_5_accuracy: 0.7400\n",
      "Epoch 5/30\n",
      "2/2 [==============================] - 15s 7s/step - loss: 2.7036 - accuracy: 0.0996 - top_5_accuracy: 0.7022 - val_loss: 2.0677 - val_accuracy: 0.0984 - val_top_5_accuracy: 0.6800\n",
      "Epoch 6/30\n",
      "2/2 [==============================] - 15s 7s/step - loss: 2.5620 - accuracy: 0.1004 - top_5_accuracy: 0.6911 - val_loss: 2.0714 - val_accuracy: 0.0840 - val_top_5_accuracy: 0.7600\n",
      "Epoch 7/30\n",
      "2/2 [==============================] - 15s 7s/step - loss: 2.2695 - accuracy: 0.1041 - top_5_accuracy: 0.7378 - val_loss: 2.0821 - val_accuracy: 0.0872 - val_top_5_accuracy: 0.7800\n",
      "Epoch 8/30\n",
      "2/2 [==============================] - 15s 7s/step - loss: 2.2897 - accuracy: 0.1017 - top_5_accuracy: 0.7556 - val_loss: 2.0565 - val_accuracy: 0.0920 - val_top_5_accuracy: 0.7600\n",
      "Epoch 9/30\n",
      "2/2 [==============================] - 15s 7s/step - loss: 2.2896 - accuracy: 0.1027 - top_5_accuracy: 0.7689 - val_loss: 2.0275 - val_accuracy: 0.0960 - val_top_5_accuracy: 0.7400\n",
      "Epoch 10/30\n",
      "2/2 [==============================] - 15s 7s/step - loss: 2.1937 - accuracy: 0.1034 - top_5_accuracy: 0.7644 - val_loss: 2.0145 - val_accuracy: 0.0908 - val_top_5_accuracy: 0.7400\n",
      "Epoch 11/30\n",
      "2/2 [==============================] - 15s 7s/step - loss: 2.1977 - accuracy: 0.1074 - top_5_accuracy: 0.7689 - val_loss: 1.9795 - val_accuracy: 0.0964 - val_top_5_accuracy: 0.8000\n",
      "Epoch 12/30\n",
      "2/2 [==============================] - 15s 7s/step - loss: 2.1908 - accuracy: 0.1048 - top_5_accuracy: 0.7711 - val_loss: 1.9661 - val_accuracy: 0.1100 - val_top_5_accuracy: 0.8000\n",
      "Epoch 13/30\n",
      "2/2 [==============================] - 17s 8s/step - loss: 2.0833 - accuracy: 0.1020 - top_5_accuracy: 0.7933 - val_loss: 1.9692 - val_accuracy: 0.0996 - val_top_5_accuracy: 0.7800\n",
      "Epoch 14/30\n",
      "2/2 [==============================] - 17s 7s/step - loss: 2.1080 - accuracy: 0.1001 - top_5_accuracy: 0.7667 - val_loss: 1.9699 - val_accuracy: 0.0940 - val_top_5_accuracy: 0.7400\n",
      "Epoch 15/30\n",
      "2/2 [==============================] - 17s 8s/step - loss: 1.9977 - accuracy: 0.1049 - top_5_accuracy: 0.8244 - val_loss: 1.9439 - val_accuracy: 0.0916 - val_top_5_accuracy: 0.7800\n",
      "Epoch 16/30\n",
      "2/2 [==============================] - 16s 7s/step - loss: 1.9925 - accuracy: 0.1077 - top_5_accuracy: 0.8200 - val_loss: 1.8818 - val_accuracy: 0.0964 - val_top_5_accuracy: 0.8000\n",
      "Epoch 17/30\n",
      "2/2 [==============================] - 17s 7s/step - loss: 1.9839 - accuracy: 0.1025 - top_5_accuracy: 0.8467 - val_loss: 1.8800 - val_accuracy: 0.0960 - val_top_5_accuracy: 0.8000\n",
      "Epoch 18/30\n",
      "2/2 [==============================] - 16s 7s/step - loss: 1.9391 - accuracy: 0.1019 - top_5_accuracy: 0.8356 - val_loss: 1.8976 - val_accuracy: 0.0928 - val_top_5_accuracy: 0.8000\n",
      "Epoch 19/30\n",
      "2/2 [==============================] - 15s 7s/step - loss: 1.8685 - accuracy: 0.1016 - top_5_accuracy: 0.8467 - val_loss: 1.9341 - val_accuracy: 0.0908 - val_top_5_accuracy: 0.8200\n",
      "Epoch 20/30\n",
      "2/2 [==============================] - 15s 7s/step - loss: 1.8442 - accuracy: 0.1039 - top_5_accuracy: 0.8356 - val_loss: 1.9290 - val_accuracy: 0.0916 - val_top_5_accuracy: 0.7800\n",
      "Epoch 21/30\n",
      "2/2 [==============================] - 16s 7s/step - loss: 1.8664 - accuracy: 0.1041 - top_5_accuracy: 0.8444 - val_loss: 1.9002 - val_accuracy: 0.0952 - val_top_5_accuracy: 0.7600\n",
      "Epoch 22/30\n",
      "2/2 [==============================] - 16s 7s/step - loss: 1.8679 - accuracy: 0.1032 - top_5_accuracy: 0.8489 - val_loss: 1.9133 - val_accuracy: 0.0996 - val_top_5_accuracy: 0.8000\n",
      "Epoch 23/30\n",
      "2/2 [==============================] - 16s 7s/step - loss: 1.8774 - accuracy: 0.1053 - top_5_accuracy: 0.8267 - val_loss: 1.9505 - val_accuracy: 0.0956 - val_top_5_accuracy: 0.7600\n",
      "Epoch 24/30\n",
      "2/2 [==============================] - 15s 7s/step - loss: 1.7581 - accuracy: 0.1045 - top_5_accuracy: 0.8733 - val_loss: 1.9696 - val_accuracy: 0.0928 - val_top_5_accuracy: 0.8000\n",
      "Epoch 25/30\n",
      "2/2 [==============================] - 16s 7s/step - loss: 1.7096 - accuracy: 0.1059 - top_5_accuracy: 0.8756 - val_loss: 1.9657 - val_accuracy: 0.0932 - val_top_5_accuracy: 0.8000\n",
      "Epoch 26/30\n",
      "2/2 [==============================] - 17s 8s/step - loss: 1.7816 - accuracy: 0.1047 - top_5_accuracy: 0.8756 - val_loss: 1.9519 - val_accuracy: 0.0968 - val_top_5_accuracy: 0.8200\n",
      "Epoch 27/30\n",
      "2/2 [==============================] - 16s 7s/step - loss: 1.7816 - accuracy: 0.1012 - top_5_accuracy: 0.8511 - val_loss: 1.9843 - val_accuracy: 0.0912 - val_top_5_accuracy: 0.8400\n",
      "Epoch 28/30\n",
      "2/2 [==============================] - 17s 8s/step - loss: 1.7716 - accuracy: 0.1025 - top_5_accuracy: 0.8533 - val_loss: 1.9492 - val_accuracy: 0.0868 - val_top_5_accuracy: 0.8400\n",
      "Epoch 29/30\n",
      "2/2 [==============================] - 17s 8s/step - loss: 1.6671 - accuracy: 0.1055 - top_5_accuracy: 0.8889 - val_loss: 1.9221 - val_accuracy: 0.0924 - val_top_5_accuracy: 0.8200\n",
      "Epoch 30/30\n",
      "2/2 [==============================] - 16s 7s/step - loss: 1.5938 - accuracy: 0.1037 - top_5_accuracy: 0.9000 - val_loss: 1.9135 - val_accuracy: 0.0964 - val_top_5_accuracy: 0.8400\n",
      "4/4 [==============================] - 2s 278ms/step - loss: 1.8828 - accuracy: 0.3000 - top_5_accuracy: 0.8200\n",
      "Test Accuracy:(30, 2)%\n",
      "Test top 5 Accuracy:(82, 2)%\n"
     ]
    }
   ],
   "source": [
    "vit_classifier=create_vit_classifier()\n",
    "history=run(vit_classifier)"
   ]
  },
  {
   "cell_type": "code",
   "execution_count": 76,
   "id": "05a674f0",
   "metadata": {},
   "outputs": [],
   "source": [
    "class_names=['airplane','automobile','bird','cat','deer','dog','frog','horse','ship','truck']"
   ]
  },
  {
   "cell_type": "code",
   "execution_count": 77,
   "id": "c48ba855",
   "metadata": {},
   "outputs": [],
   "source": [
    "def imp_predict(images,model):\n",
    "    if len(images.shape)==3:\n",
    "        out=model.predict(images.reshape(-1,*images.shape))\n",
    "    else:\n",
    "        out=model.predict(images)\n",
    "    prediction=np.argmax(out,axis=1)\n",
    "    img_prediction=[class_names[i] for i in prediction]\n",
    "    return img_prediction"
   ]
  },
  {
   "cell_type": "code",
   "execution_count": 80,
   "id": "11081933",
   "metadata": {},
   "outputs": [
    {
     "name": "stdout",
     "output_type": "stream",
     "text": [
      "['horse']\n"
     ]
    },
    {
     "data": {
      "image/png": "[encoded data removed]",
      "text/plain": [
       "<Figure size 640x480 with 1 Axes>"
      ]
     },
     "metadata": {},
     "output_type": "display_data"
    }
   ],
   "source": [
    "index=17\n",
    "plt.imshow(x_test[index])\n",
    "prediction=imp_predict(x_test[index],vit_classifier)\n",
    "print(prediction)"
   ]
  },
  {
   "cell_type": "code",
   "execution_count": null,
   "id": "43978896",
   "metadata": {},
   "outputs": [],
   "source": []
  }
 ],
 "metadata": {
  "kernelspec": {
   "display_name": "Python 3 (ipykernel)",
   "language": "python",
   "name": "python3"
  },
  "language_info": {
   "codemirror_mode": {
    "name": "ipython",
    "version": 3
   },
   "file_extension": ".py",
   "mimetype": "text/x-python",
   "name": "python",
   "nbconvert_exporter": "python",
   "pygments_lexer": "ipython3",
   "version": "3.9.13"
  }
 },
 "nbformat": 4,
 "nbformat_minor": 5
}
